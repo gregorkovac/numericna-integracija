{
 "cells": [
  {
   "cell_type": "markdown",
   "metadata": {},
   "source": [
    "# Numerična matematika - domača naloga 2\n",
    "Gregor Kovač"
   ]
  },
  {
   "cell_type": "markdown",
   "metadata": {},
   "source": [
    "# 1. Naloga s funkcijo\n",
    "## Porazdelitvena funkcija normalne slučajne spremenljivke "
   ]
  },
  {
   "cell_type": "code",
   "execution_count": 1,
   "metadata": {},
   "outputs": [],
   "source": [
    "import numpy as np\n",
    "from normal import std_normal_integral, std_normal\n",
    "\n",
    "from scipy.stats import norm"
   ]
  },
  {
   "cell_type": "code",
   "execution_count": 2,
   "metadata": {},
   "outputs": [
    {
     "data": {
      "text/plain": [
       "7.69459862670642e-23"
      ]
     },
     "execution_count": 2,
     "metadata": {},
     "output_type": "execute_result"
    }
   ],
   "source": [
    "std_normal(-10**1)"
   ]
  },
  {
   "cell_type": "code",
   "execution_count": 3,
   "metadata": {},
   "outputs": [
    {
     "ename": "KeyboardInterrupt",
     "evalue": "",
     "output_type": "error",
     "traceback": [
      "\u001b[0;31m---------------------------------------------------------------------------\u001b[0m",
      "\u001b[0;31mKeyboardInterrupt\u001b[0m                         Traceback (most recent call last)",
      "Cell \u001b[0;32mIn[3], line 1\u001b[0m\n\u001b[0;32m----> 1\u001b[0m \u001b[38;5;28mprint\u001b[39m(\u001b[38;5;124mf\u001b[39m\u001b[38;5;124m\"\u001b[39m\u001b[38;5;124mMy solution: \u001b[39m\u001b[38;5;132;01m{\u001b[39;00m\u001b[43mstd_normal_integral\u001b[49m\u001b[43m(\u001b[49m\u001b[38;5;241;43m1\u001b[39;49m\u001b[43m,\u001b[49m\u001b[38;5;250;43m \u001b[39;49m\u001b[43mn\u001b[49m\u001b[38;5;250;43m \u001b[39;49m\u001b[38;5;241;43m=\u001b[39;49m\u001b[38;5;250;43m \u001b[39;49m\u001b[38;5;241;43m1000000\u001b[39;49m\u001b[43m)\u001b[49m\u001b[38;5;132;01m:\u001b[39;00m\u001b[38;5;124m.10f\u001b[39m\u001b[38;5;132;01m}\u001b[39;00m\u001b[38;5;124m\"\u001b[39m)\n\u001b[1;32m      2\u001b[0m \u001b[38;5;28mprint\u001b[39m(\u001b[38;5;124mf\u001b[39m\u001b[38;5;124m\"\u001b[39m\u001b[38;5;124mScipy \u001b[39m\u001b[38;5;132;01m{\u001b[39;00mnorm\u001b[38;5;241m.\u001b[39mcdf(\u001b[38;5;241m1\u001b[39m)\u001b[38;5;132;01m:\u001b[39;00m\u001b[38;5;124m.10f\u001b[39m\u001b[38;5;132;01m}\u001b[39;00m\u001b[38;5;124m\"\u001b[39m)\n",
      "File \u001b[0;32m~/Documents/2. Semester/nm - Numerical Mathematics/homeworks/hw2/normal.py:11\u001b[0m, in \u001b[0;36mstd_normal_integral\u001b[0;34m(x, n, lower_limit)\u001b[0m\n\u001b[1;32m      6\u001b[0m \u001b[38;5;28;01mdef\u001b[39;00m \u001b[38;5;21mstd_normal_integral\u001b[39m(x, n\u001b[38;5;241m=\u001b[39m\u001b[38;5;241m1000\u001b[39m, lower_limit\u001b[38;5;241m=\u001b[39m\u001b[38;5;241m-\u001b[39m\u001b[38;5;241m10\u001b[39m):\n\u001b[1;32m      7\u001b[0m     \u001b[38;5;66;03m# Estimate the integral of the standard normal distribution from -10 to x using gaussian quadrature\u001b[39;00m\n\u001b[1;32m      8\u001b[0m     \u001b[38;5;66;03m# n is the number of nodes\u001b[39;00m\n\u001b[1;32m      9\u001b[0m     \u001b[38;5;66;03m# lower_limit is the lower limit of the integral\u001b[39;00m\n\u001b[1;32m     10\u001b[0m     \u001b[38;5;66;03m# x is the upper limit of the integral\u001b[39;00m\n\u001b[0;32m---> 11\u001b[0m     nodes, weights \u001b[38;5;241m=\u001b[39m \u001b[43mnp\u001b[49m\u001b[38;5;241;43m.\u001b[39;49m\u001b[43mpolynomial\u001b[49m\u001b[38;5;241;43m.\u001b[39;49m\u001b[43mlegendre\u001b[49m\u001b[38;5;241;43m.\u001b[39;49m\u001b[43mleggauss\u001b[49m\u001b[43m(\u001b[49m\u001b[43mn\u001b[49m\u001b[43m)\u001b[49m\n\u001b[1;32m     12\u001b[0m     nodes \u001b[38;5;241m=\u001b[39m (nodes \u001b[38;5;241m+\u001b[39m \u001b[38;5;241m1\u001b[39m) \u001b[38;5;241m/\u001b[39m \u001b[38;5;241m2\u001b[39m \u001b[38;5;241m*\u001b[39m (x \u001b[38;5;241m-\u001b[39m lower_limit) \u001b[38;5;241m+\u001b[39m lower_limit\n\u001b[1;32m     13\u001b[0m     weights \u001b[38;5;241m=\u001b[39m weights \u001b[38;5;241m/\u001b[39m \u001b[38;5;241m2\u001b[39m \u001b[38;5;241m*\u001b[39m (x \u001b[38;5;241m-\u001b[39m lower_limit)\n",
      "File \u001b[0;32m~/.conda/envs/tda/lib/python3.10/site-packages/numpy/polynomial/legendre.py:1563\u001b[0m, in \u001b[0;36mleggauss\u001b[0;34m(deg)\u001b[0m\n\u001b[1;32m   1560\u001b[0m \u001b[38;5;66;03m# first approximation of roots. We use the fact that the companion\u001b[39;00m\n\u001b[1;32m   1561\u001b[0m \u001b[38;5;66;03m# matrix is symmetric in this case in order to obtain better zeros.\u001b[39;00m\n\u001b[1;32m   1562\u001b[0m c \u001b[38;5;241m=\u001b[39m np\u001b[38;5;241m.\u001b[39marray([\u001b[38;5;241m0\u001b[39m]\u001b[38;5;241m*\u001b[39mdeg \u001b[38;5;241m+\u001b[39m [\u001b[38;5;241m1\u001b[39m])\n\u001b[0;32m-> 1563\u001b[0m m \u001b[38;5;241m=\u001b[39m \u001b[43mlegcompanion\u001b[49m\u001b[43m(\u001b[49m\u001b[43mc\u001b[49m\u001b[43m)\u001b[49m\n\u001b[1;32m   1564\u001b[0m x \u001b[38;5;241m=\u001b[39m la\u001b[38;5;241m.\u001b[39meigvalsh(m)\n\u001b[1;32m   1566\u001b[0m \u001b[38;5;66;03m# improve roots by one application of Newton\u001b[39;00m\n",
      "\u001b[0;31mKeyboardInterrupt\u001b[0m: "
     ]
    }
   ],
   "source": [
    "print(f\"My solution: {std_normal_integral(1, n = 1000000):.10f}\")\n",
    "print(f\"Scipy {norm.cdf(1):.10f}\")"
   ]
  },
  {
   "cell_type": "code",
   "execution_count": null,
   "metadata": {},
   "outputs": [],
   "source": []
  },
  {
   "cell_type": "code",
   "execution_count": null,
   "metadata": {},
   "outputs": [],
   "source": []
  }
 ],
 "metadata": {
  "kernelspec": {
   "display_name": "tda",
   "language": "python",
   "name": "python3"
  },
  "language_info": {
   "codemirror_mode": {
    "name": "ipython",
    "version": 3
   },
   "file_extension": ".py",
   "mimetype": "text/x-python",
   "name": "python",
   "nbconvert_exporter": "python",
   "pygments_lexer": "ipython3",
   "version": "3.10.12"
  }
 },
 "nbformat": 4,
 "nbformat_minor": 2
}
